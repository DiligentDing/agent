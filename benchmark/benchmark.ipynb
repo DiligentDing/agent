{
 "cells": [
  {
   "cell_type": "code",
   "execution_count": 2,
   "id": "6f05bf21",
   "metadata": {},
   "outputs": [
    {
     "name": "stdout",
     "output_type": "stream",
     "text": [
      "✅  Merged 4476 entries → /home/xinding/dingxin/Agent/MAIA/benchmark/merged_benchmark.json\n"
     ]
    }
   ],
   "source": [
    "#!/usr/bin/env python3\n",
    "# -*- coding: utf-8 -*-\n",
    "\"\"\"\n",
    "Merge six benchmark JSON files, standardise IDs, and append a 'type' field.\n",
    "\"\"\"\n",
    "\n",
    "import json\n",
    "import uuid\n",
    "from pathlib import Path\n",
    "\n",
    "# ---------- 1. 待合并文件及其归类 ----------\n",
    "files_info = [\n",
    "    (\"pubmed_qa.json\",       \"retrieval\",          \"ret\"),\n",
    "    (\"ctgov_qa.json\",        \"retrieval\",          \"ret\"),\n",
    "    (\"ot_disease.json\",      \"retrieval\",          \"ret\"),\n",
    "    (\"ot_safety.json\",       \"retrieval\",          \"ret\"),\n",
    "    (\"ot_tractability.json\", \"retrieval\",          \"ret\"),\n",
    "    (\"umls_qa.json\",         \"kg_reasoning\",       \"kg\"),\n",
    "    (\"oncology_case_qa.json\",\"diagnostic_pathway\", \"path\"),\n",
    "]\n",
    "\n",
    "# ---------- 2. 合并处理 ----------\n",
    "merged_items = []\n",
    "\n",
    "def new_id(prefix: str) -> str:\n",
    "    \"\"\"Return a short random id with type prefix (e.g. 'ret_4ab97c8e2f3a').\"\"\"\n",
    "    return f\"{prefix}_{uuid.uuid4().hex[:12]}\"\n",
    "\n",
    "for fname, qtype, prefix in files_info:\n",
    "    path = Path(fname)\n",
    "    if not path.is_file():\n",
    "        raise FileNotFoundError(f\"{fname} not found\")\n",
    "\n",
    "    with path.open(encoding=\"utf-8\") as fp:\n",
    "        data = json.load(fp)[\"dataset\"]\n",
    "\n",
    "    for item in data:\n",
    "        item[\"id\"] = new_id(prefix)   # 统一 ID\n",
    "        item[\"type\"] = qtype          # 新增类型字段\n",
    "        merged_items.append(item)\n",
    "\n",
    "# ---------- 3. 写出结果 ----------\n",
    "out_path = Path(\"merged_benchmark.json\")\n",
    "with out_path.open(\"w\", encoding=\"utf-8\") as fp:\n",
    "    json.dump(merged_items, fp, indent=2, ensure_ascii=False)\n",
    "\n",
    "print(f\"✅  Merged {len(merged_items)} entries → {out_path.resolve()}\")\n"
   ]
  },
  {
   "cell_type": "code",
   "execution_count": 1,
   "id": "bb06aab2",
   "metadata": {},
   "outputs": [
    {
     "name": "stdout",
     "output_type": "stream",
     "text": [
      "✅  Merged 4005 entries → /home/xinding/dingxin/Agent/MAIA/benchmark/benchmark_reasoning.json\n"
     ]
    }
   ],
   "source": [
    "#!/usr/bin/env python3\n",
    "# -*- coding: utf-8 -*-\n",
    "\"\"\"\n",
    "Merge six benchmark JSON files, standardise IDs, and append a 'type' field.\n",
    "\"\"\"\n",
    "\n",
    "import json\n",
    "import uuid\n",
    "from pathlib import Path\n",
    "\n",
    "# ---------- 1. 待合并文件及其归类 ----------\n",
    "files_info = [\n",
    "    (\"umls_qa.json\",         \"kg_reasoning\",       \"kg\"),\n",
    "    (\"oncology_case_qa.json\",\"diagnostic_pathway\", \"path\"),\n",
    "]\n",
    "\n",
    "# ---------- 2. 合并处理 ----------\n",
    "merged_items = []\n",
    "\n",
    "def new_id(prefix: str) -> str:\n",
    "    \"\"\"Return a short random id with type prefix (e.g. 'ret_4ab97c8e2f3a').\"\"\"\n",
    "    return f\"{prefix}_{uuid.uuid4().hex[:12]}\"\n",
    "\n",
    "for fname, qtype, prefix in files_info:\n",
    "    path = Path(fname)\n",
    "    if not path.is_file():\n",
    "        raise FileNotFoundError(f\"{fname} not found\")\n",
    "\n",
    "    with path.open(encoding=\"utf-8\") as fp:\n",
    "        data = json.load(fp)[\"dataset\"]\n",
    "\n",
    "    for item in data:\n",
    "        item[\"id\"] = new_id(prefix)   # 统一 ID\n",
    "        item[\"type\"] = qtype          # 新增类型字段\n",
    "        merged_items.append(item)\n",
    "\n",
    "# ---------- 3. 写出结果 ----------\n",
    "out_path = Path(\"benchmark_reasoning.json\")\n",
    "with out_path.open(\"w\", encoding=\"utf-8\") as fp:\n",
    "    json.dump(merged_items, fp, indent=2, ensure_ascii=False)\n",
    "\n",
    "print(f\"✅  Merged {len(merged_items)} entries → {out_path.resolve()}\")\n"
   ]
  }
 ],
 "metadata": {
  "kernelspec": {
   "display_name": "gpt",
   "language": "python",
   "name": "python3"
  },
  "language_info": {
   "codemirror_mode": {
    "name": "ipython",
    "version": 3
   },
   "file_extension": ".py",
   "mimetype": "text/x-python",
   "name": "python",
   "nbconvert_exporter": "python",
   "pygments_lexer": "ipython3",
   "version": "3.9.19"
  }
 },
 "nbformat": 4,
 "nbformat_minor": 5
}
