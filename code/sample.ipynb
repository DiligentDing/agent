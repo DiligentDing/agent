{
 "cells": [
  {
   "cell_type": "code",
   "execution_count": 1,
   "id": "f296671d",
   "metadata": {},
   "outputs": [],
   "source": [
    "import json\n",
    "import csv\n",
    "from pathlib import Path\n",
    "\n",
    "# Define file paths\n",
    "judge_path = Path('/home/xinding/dingxin/Agent/MAIA/evaluation/MAIA/judge_scores.json')\n",
    "model_path = Path('/home/xinding/dingxin/Agent/MAIA/evaluation/MAIA/model_answers.json')\n",
    "qa_path = Path('/home/xinding/dingxin/Agent/MAIA/benchmark/MAIA_reasoning.json')"
   ]
  },
  {
   "cell_type": "code",
   "execution_count": 4,
   "id": "c35afd0d",
   "metadata": {},
   "outputs": [
    {
     "name": "stdout",
     "output_type": "stream",
     "text": [
      "✅ 筛选完成：共 713 条得分≤4 的 QA 对，已保存至 /home/xinding/dingxin/Agent/MAIA/code/low_score_qa.json\n"
     ]
    }
   ],
   "source": [
    "import json\n",
    "from pathlib import Path\n",
    "\n",
    "# 文件路径\n",
    "judge_path = Path('/home/xinding/dingxin/Agent/MAIA/evaluation/MAIA/judge_scores.json')\n",
    "qa_path = Path('/home/xinding/dingxin/Agent/MAIA/benchmark/MAIA_reasoning.json')\n",
    "output_path = Path('low_score_qa.json')\n",
    "\n",
    "# 1. 加载评分\n",
    "with open(judge_path, 'r', encoding='utf-8') as f:\n",
    "    judge_scores = json.load(f)\n",
    "\n",
    "# 2. 加载 QA 数据（列表）\n",
    "with open(qa_path, 'r', encoding='utf-8') as f:\n",
    "    qa_list = json.load(f)\n",
    "\n",
    "# 3. 筛选评分 <= 4 的 QA 对（基于顺序索引）\n",
    "filtered_qa = []\n",
    "for i, qa in enumerate(qa_list):\n",
    "    score_info = judge_scores.get(str(i), {})\n",
    "    if isinstance(score_info, dict) and score_info.get(\"score\", 5) <= 4:\n",
    "        filtered_qa.append(qa)\n",
    "\n",
    "# 4. 保存筛选结果\n",
    "with open(output_path, 'w', encoding='utf-8') as f:\n",
    "    json.dump(filtered_qa, f, ensure_ascii=False, indent=2)\n",
    "\n",
    "print(f\"✅ 筛选完成：共 {len(filtered_qa)} 条得分≤4 的 QA 对，已保存至 {output_path.resolve()}\")\n"
   ]
  },
  {
   "cell_type": "code",
   "execution_count": 5,
   "id": "e8e1a12b",
   "metadata": {},
   "outputs": [
    {
     "name": "stdout",
     "output_type": "stream",
     "text": [
      "✅ 完成！共 201 条 diagnostic_pathway 且得分=5 的题目写入 /home/xinding/dingxin/Agent/MAIA/code/diagnostic_pathway_score5_201.json\n"
     ]
    }
   ],
   "source": [
    "import json\n",
    "import random\n",
    "from pathlib import Path\n",
    "\n",
    "# ---------------- 路径 ----------------\n",
    "judge_path  = Path(\"/home/xinding/dingxin/Agent/MAIA/evaluation/MAIA/judge_scores.json\")\n",
    "qa_path     = Path(\"/home/xinding/dingxin/Agent/MAIA/benchmark/MAIA_reasoning.json\")\n",
    "output_path = Path(\"diagnostic_pathway_score5_201.json\")\n",
    "\n",
    "# 固定随机种子，确保可复现\n",
    "random.seed(42)\n",
    "\n",
    "# ---------------- 读取文件 ----------------\n",
    "with open(judge_path, \"r\", encoding=\"utf-8\") as f:\n",
    "    judge_scores = json.load(f)            # dict: {index_str: {\"score\": ..}}\n",
    "\n",
    "with open(qa_path, \"r\", encoding=\"utf-8\") as f:\n",
    "    qa_list = json.load(f)                 # list\n",
    "\n",
    "# ---------------- 过滤 ----------------\n",
    "diag_score5 = [\n",
    "    qa\n",
    "    for i, qa in enumerate(qa_list)\n",
    "    if qa.get(\"type\") == \"diagnostic_pathway\"\n",
    "       and isinstance(judge_scores.get(str(i)), dict)\n",
    "       and judge_scores[str(i)].get(\"score\") == 5\n",
    "]\n",
    "\n",
    "# ---------------- 抽样 ----------------\n",
    "if len(diag_score5) >= 201:\n",
    "    selected = random.sample(diag_score5, 201)\n",
    "else:\n",
    "    selected = diag_score5\n",
    "    print(f\"⚠️  仅找到 {len(selected)} 条满足条件的题目，已全部保留。\")\n",
    "\n",
    "# ---------------- 保存 ----------------\n",
    "with open(output_path, \"w\", encoding=\"utf-8\") as f:\n",
    "    json.dump(selected, f, ensure_ascii=False, indent=2)\n",
    "\n",
    "print(f\"✅ 完成！共 {len(selected)} 条 diagnostic_pathway 且得分=5 的题目写入 {output_path.resolve()}\")\n"
   ]
  },
  {
   "cell_type": "code",
   "execution_count": 6,
   "id": "438cad62",
   "metadata": {},
   "outputs": [
    {
     "name": "stdout",
     "output_type": "stream",
     "text": [
      "📊 各类型问题统计：\n",
      "kg_reasoning: 466\n",
      "diagnostic_pathway: 247\n"
     ]
    }
   ],
   "source": [
    "import json\n",
    "from collections import Counter\n",
    "from pathlib import Path\n",
    "\n",
    "# 加载 QA 数据\n",
    "qa_path = Path('low_score_qa.json')\n",
    "with open(qa_path, 'r', encoding='utf-8') as f:\n",
    "    qa_list = json.load(f)  # 是一个 list\n",
    "\n",
    "# 统计 type 字段\n",
    "type_counter = Counter()\n",
    "for item in qa_list:\n",
    "    qtype = item.get(\"type\", \"UNKNOWN\")\n",
    "    type_counter[qtype] += 1\n",
    "\n",
    "# 打印统计结果\n",
    "print(\"📊 各类型问题统计：\")\n",
    "for t, count in type_counter.items():\n",
    "    print(f\"{t}: {count}\")\n"
   ]
  },
  {
   "cell_type": "code",
   "execution_count": 3,
   "id": "78eda290",
   "metadata": {},
   "outputs": [
    {
     "name": "stdout",
     "output_type": "stream",
     "text": [
      "✅  Done: 100 questions saved to MAIA_retrieval100.json\n"
     ]
    }
   ],
   "source": [
    "import json\n",
    "import random\n",
    "\n",
    "# ---------- 参数 ----------\n",
    "SEED = 42                                  # 固定随机种子，方便复现\n",
    "IN_FILE = \"../benchmark/MAIA.json\"                      # 原始数据\n",
    "OUT_FILE = \"MAIA_retrieval100.json\"        # 抽样结果\n",
    "# ---------- 抽样配额（方案 B） ----------\n",
    "N_PUBMED = 33\n",
    "N_CT = 33\n",
    "N_OT_DISEASE = 15\n",
    "N_OT_SAFETY = 4\n",
    "N_OT_TRACT = 15\n",
    "# ---------------------------\n",
    "\n",
    "random.seed(SEED)\n",
    "\n",
    "# 1) 读文件\n",
    "with open(IN_FILE, \"r\", encoding=\"utf-8\") as f:\n",
    "    data = json.load(f)\n",
    "retrieval = data[:471]          # 前 471 条\n",
    "\n",
    "# 2) 切分五段\n",
    "pubmed       = retrieval[0:100]\n",
    "clinical     = retrieval[100:200]\n",
    "ot_disease   = retrieval[200:319]          # 119\n",
    "ot_safety    = retrieval[319:350]          # 31\n",
    "ot_tract     = retrieval[350:471]          # 121\n",
    "\n",
    "# 3) 抽样\n",
    "sample = (\n",
    "      random.sample(pubmed, N_PUBMED)\n",
    "    + random.sample(clinical, N_CT)\n",
    "    + random.sample(ot_disease, N_OT_DISEASE)\n",
    "    + random.sample(ot_safety, N_OT_SAFETY)\n",
    "    + random.sample(ot_tract, N_OT_TRACT)\n",
    ")\n",
    "random.shuffle(sample)                     # 可选：打乱顺序\n",
    "\n",
    "# 4) 写文件\n",
    "with open(OUT_FILE, \"w\", encoding=\"utf-8\") as f:\n",
    "    json.dump(sample, f, ensure_ascii=False, indent=2)\n",
    "\n",
    "print(f\"✅  Done: {len(sample)} questions saved to {OUT_FILE}\")\n"
   ]
  },
  {
   "cell_type": "code",
   "execution_count": null,
   "id": "ef039723",
   "metadata": {},
   "outputs": [],
   "source": [
    "import json\n",
    "import random\n",
    "from pathlib import Path\n",
    "\n",
    "# ----------- 配置 -----------\n",
    "FILES = [\n",
    "    \"MAIA_retrieval100.json\",\n",
    "    \"low_score_qa.json\",\n",
    "    \"diagnostic_pathway_score5_201.json\",\n",
    "]\n",
    "OUT_FILE = \"MAIA_final_merged.json\"\n",
    "SEED = 42               # 如要保持顺序可设为 None\n",
    "# ---------------------------\n",
    "\n",
    "def load_dataset(path: Path):\n",
    "    \"\"\"兼容两种格式：dict(dataset=[]) 或直接list\"\"\"\n",
    "    with path.open(\"r\", encoding=\"utf-8\") as f:\n",
    "        data = json.load(f)\n",
    "    if isinstance(data, dict) and \"dataset\" in data:\n",
    "        return data[\"dataset\"]\n",
    "    elif isinstance(data, list):\n",
    "        return data\n",
    "    else:\n",
    "        raise ValueError(f\"{path} 不是支持的格式\")\n",
    "\n",
    "# 1) 读取并合并\n",
    "merged = []\n",
    "for p in FILES:\n",
    "    items = load_dataset(Path(p))\n",
    "    merged.extend(items)\n",
    "print(f\"合并后共有 {len(merged)} 条\")\n",
    "\n",
    "# 2) 可选：根据 id 去重\n",
    "seen = set()\n",
    "deduped = []\n",
    "for qa in merged:\n",
    "    qa_id = qa.get(\"id\")\n",
    "    if qa_id and qa_id not in seen:\n",
    "        seen.add(qa_id)\n",
    "        deduped.append(qa)\n",
    "print(f\"去重后共有 {len(deduped)} 条\")\n",
    "\n",
    "# 3) 可选：随机打乱\n",
    "if SEED is not None:\n",
    "    random.Random(SEED).shuffle(deduped)\n",
    "\n",
    "# 4) 保存\n",
    "with Path(OUT_FILE).open(\"w\", encoding=\"utf-8\") as f:\n",
    "    json.dump({\"dataset\": deduped}, f, ensure_ascii=False, indent=2)\n",
    "\n",
    "print(f\"✅ 已写入 {OUT_FILE}（{len(deduped)} 条）\")\n"
   ]
  },
  {
   "cell_type": "code",
   "execution_count": 8,
   "id": "838f07e1",
   "metadata": {},
   "outputs": [
    {
     "name": "stdout",
     "output_type": "stream",
     "text": [
      "✅ 完成！\n",
      "  retrieval           100\n",
      "  kg_reasoning (≤4)   466\n",
      "  diagnostic_pathway  448\n",
      "👉 合并去重后总数      1014   已写入 /home/xinding/dingxin/Agent/MAIA/code/MAIA_final_sorted.json\n"
     ]
    }
   ],
   "source": [
    "import json, random\n",
    "from pathlib import Path\n",
    "\n",
    "# ---------------- 配置 ----------------\n",
    "FILES = {\n",
    "    \"retrieval\": \"MAIA_retrieval100.json\",\n",
    "    \"low_score\": \"low_score_qa.json\",\n",
    "    \"diag201\":   \"diagnostic_pathway_score5_201.json\",\n",
    "}\n",
    "OUT_FILE = \"MAIA_final_sorted.json\"\n",
    "SEED = 42          # 设为 None 可得到真正随机顺序\n",
    "# -------------------------------------\n",
    "\n",
    "def load_ds(path: str):\n",
    "    \"\"\"兼容 {\"dataset\": [...]} 或直接 list\"\"\"\n",
    "    with Path(path).open(\"r\", encoding=\"utf-8\") as f:\n",
    "        data = json.load(f)\n",
    "    return data[\"dataset\"] if isinstance(data, dict) else data\n",
    "\n",
    "# 1) 读取各文件\n",
    "retrieval_set   = load_ds(FILES[\"retrieval\"])\n",
    "low_score_set   = load_ds(FILES[\"low_score\"])\n",
    "diag201_set     = load_ds(FILES[\"diag201\"])\n",
    "\n",
    "# 2) 从 low_score 拆出两类\n",
    "kg_reasoning, diag_from_low = [], []\n",
    "for qa in low_score_set:\n",
    "    t = qa.get(\"type\")\n",
    "    if t == \"kg_reasoning\":\n",
    "        kg_reasoning.append(qa)\n",
    "    elif t == \"diagnostic_pathway\":\n",
    "        diag_from_low.append(qa)\n",
    "\n",
    "# 3) 合并 diagnostic_pathway：低分版 + 201 满分版\n",
    "diagnostic_pathway = diag_from_low + diag201_set\n",
    "\n",
    "# 4) 可复现打乱各块内部顺序\n",
    "rng = random.Random(SEED) if SEED is not None else random\n",
    "for block in (retrieval_set, kg_reasoning, diagnostic_pathway):\n",
    "    rng.shuffle(block)\n",
    "\n",
    "# 5) 拼接并去重\n",
    "merged, seen = [], set()\n",
    "for block in (retrieval_set, kg_reasoning, diagnostic_pathway):\n",
    "    for qa in block:\n",
    "        _id = qa.get(\"id\")\n",
    "        if _id not in seen:\n",
    "            merged.append(qa)\n",
    "            seen.add(_id)\n",
    "\n",
    "# 6) 写文件\n",
    "with Path(OUT_FILE).open(\"w\", encoding=\"utf-8\") as f:\n",
    "    json.dump(merged, f, ensure_ascii=False, indent=2)\n",
    "\n",
    "print(\"✅ 完成！\")\n",
    "print(f\"  retrieval           {len(retrieval_set)}\")\n",
    "print(f\"  kg_reasoning (≤4)   {len(kg_reasoning)}\")\n",
    "print(f\"  diagnostic_pathway  {len(diagnostic_pathway)}\")\n",
    "print(f\"👉 合并去重后总数      {len(merged)}   已写入 {Path(OUT_FILE).resolve()}\")\n"
   ]
  },
  {
   "cell_type": "code",
   "execution_count": 9,
   "id": "9fa4bf0a",
   "metadata": {},
   "outputs": [
    {
     "name": "stdout",
     "output_type": "stream",
     "text": [
      "✅ 完成！已写入 /home/xinding/dingxin/Agent/MAIA/code/MAIA_final_shuffled.json  |  总计 1014 条\n"
     ]
    }
   ],
   "source": [
    "import json, random\n",
    "from pathlib import Path\n",
    "\n",
    "# ---------- 输入文件 ----------\n",
    "PATH_RETRIEVAL = \"MAIA_retrieval100.json\"\n",
    "PATH_LOW_SCORE = \"low_score_qa.json\"\n",
    "PATH_DIAG201   = \"diagnostic_pathway_score5_201.json\"\n",
    "\n",
    "OUT_FILE = \"MAIA_final_shuffled.json\"\n",
    "SEED = 42          # 设为 None => 真正随机\n",
    "\n",
    "# ---------- 读取工具 ----------\n",
    "def load_ds(fp):\n",
    "    with Path(fp).open(\"r\", encoding=\"utf-8\") as f:\n",
    "        data = json.load(f)\n",
    "    return data[\"dataset\"] if isinstance(data, dict) else data\n",
    "\n",
    "# ---------- 合并 ----------\n",
    "merged = (\n",
    "      load_ds(PATH_RETRIEVAL)\n",
    "    + load_ds(PATH_LOW_SCORE)\n",
    "    + load_ds(PATH_DIAG201)\n",
    ")\n",
    "\n",
    "# ---------- 去重按 id ----------\n",
    "uniq, seen = [], set()\n",
    "for qa in merged:\n",
    "    qid = qa.get(\"id\")\n",
    "    if qid not in seen:\n",
    "        uniq.append(qa)\n",
    "        seen.add(qid)\n",
    "\n",
    "# ---------- 完全打乱 ----------\n",
    "rng = random.Random(SEED) if SEED is not None else random\n",
    "rng.shuffle(uniq)\n",
    "\n",
    "# ---------- 保存 ----------\n",
    "with Path(OUT_FILE).open(\"w\", encoding=\"utf-8\") as f:\n",
    "    json.dump({\"dataset\": uniq}, f, ensure_ascii=False, indent=2)\n",
    "\n",
    "print(f\"✅ 完成！已写入 {Path(OUT_FILE).resolve()}  |  总计 {len(uniq)} 条\")\n"
   ]
  },
  {
   "cell_type": "code",
   "execution_count": null,
   "id": "4047f1da",
   "metadata": {},
   "outputs": [
    {
     "name": "stdout",
     "output_type": "stream",
     "text": [
      "合并后去重共 914 条\n",
      "✅ 已写入 /home/xinding/dingxin/Agent/MAIA/code/MAIA_reasoning_shuffled.json (随机顺序)\n"
     ]
    }
   ],
   "source": [
    "import json, random\n",
    "from pathlib import Path\n",
    "import os\n",
    "os.environ[\"OPENAI_API_KEY\"] = 'sk-4jnd9yjoIXnQRQ5SXR2b3bVO1d3sHtuyegGMzAl6awSWDRNn' \n",
    "os.environ['OPENAI_BASE_URL'] = 'https://api2.aigcbest.top/v1' \n",
    "\n",
    "# os.environ[\"OPENAI_API_KEY\"] = 'sk-OlimLcefr3MBSt08IrcZ9LrhP94qqni4w3u4qkOPFtAULcDD' \n",
    "# os.environ['OPENAI_BASE_URL'] = 'https://api.chatanywhere.tech' \n",
    "\n",
    "os.environ[\"AZURE_OPENAI_API_KEY\"] = \"5a1437f6ff2648b9b969507fb5a73276\"\n",
    "os.environ[\"AZURE_OPENAI_ENDPOINT\"] = \"https://ai-mistraleastus2753718354821.openai.azure.com/\"\n",
    "# ========== 输入文件 ==========\n",
    "PATH_LOW_SCORE = \"low_score_qa.json\"                  # ≤4 分推理题\n",
    "PATH_DIAG201   = \"diagnostic_pathway_score5_201.json\" # 201 条满分诊疗路径\n",
    "\n",
    "OUT_FILE = \"MAIA_reasoning_shuffled.json\"\n",
    "SEED = 42               # 固定随机种子；设为 None 可每次不同\n",
    "\n",
    "# ---------- 工具 ----------\n",
    "def load_dataset(fp: str):\n",
    "    \"\"\"兼容 {\"dataset\":[...]} 或直接 list\"\"\"\n",
    "    with Path(fp).open(\"r\", encoding=\"utf-8\") as f:\n",
    "        data = json.load(f)\n",
    "    return data[\"dataset\"] if isinstance(data, dict) else data\n",
    "\n",
    "# ---------- 读取 ----------\n",
    "low_score_set = load_dataset(PATH_LOW_SCORE)\n",
    "diag201_set   = load_dataset(PATH_DIAG201)\n",
    "\n",
    "# ---------- 合并并按 id 去重 ----------\n",
    "merged, seen = [], set()\n",
    "for qa in low_score_set + diag201_set:\n",
    "    qid = qa.get(\"id\")\n",
    "    if qid not in seen:\n",
    "        merged.append(qa)\n",
    "        seen.add(qid)\n",
    "\n",
    "print(f\"合并后去重共 {len(merged)} 条\")\n",
    "\n",
    "# ---------- 打乱顺序 ----------\n",
    "rng = random.Random(SEED) if SEED is not None else random\n",
    "rng.shuffle(merged)\n",
    "\n",
    "# ---------- 保存 ----------\n",
    "with Path(OUT_FILE).open(\"w\", encoding=\"utf-8\") as f:\n",
    "    json.dump({\"dataset\": merged}, f, ensure_ascii=False, indent=2)\n",
    "\n",
    "print(f\"✅ 已写入 {Path(OUT_FILE).resolve()} (随机顺序)\")\n"
   ]
  },
  {
   "cell_type": "code",
   "execution_count": 1,
   "id": "131f6342",
   "metadata": {},
   "outputs": [
    {
     "data": {
      "image/png": "[encoded data removed]",
      "text/plain": [
       "<Figure size 900x450 with 1 Axes>"
      ]
     },
     "metadata": {},
     "output_type": "display_data"
    }
   ],
   "source": [
    "import pandas as pd\n",
    "import matplotlib.pyplot as plt\n",
    "import numpy as np\n",
    "\n",
    "# Percentage score distribution data\n",
    "data = {\n",
    "    'Model': ['GPT-4o', 'GPT-4.1', 'GPT-o3', 'DeepSeek-v3', 'DeepSeek-r1'],\n",
    "    '0':  [1,3,6,4,3],\n",
    "    '1':  [26,25,15,23,22],\n",
    "    '2':  [171,105,94,136,134],\n",
    "    '3':  [234,244,148,237,233],\n",
    "    '4':  [187,199,123,132,139],\n",
    "    '5':  [295,338,527,382,383],\n",
    "}\n",
    "\n",
    "df = pd.DataFrame(data)\n",
    "\n",
    "models = df['Model']\n",
    "scores = ['0', '1', '2', '3', '4', '5']\n",
    "n_scores = len(scores)\n",
    "bar_width = 0.14\n",
    "\n",
    "indices = np.arange(len(models))\n",
    "\n",
    "gray_colors = ['#e0e0e0', '#c8c8c8', '#a8a8a8', '#888888', '#646464', '#424242']\n",
    "\n",
    "fig, ax = plt.subplots(figsize=(9, 4.5))\n",
    "\n",
    "for i, score in enumerate(scores):\n",
    "    offsets = indices - (n_scores/2 - i + 0.5) * bar_width\n",
    "    ax.bar(offsets, df[score], bar_width, label=f'Score {score}', color=gray_colors[i])\n",
    "\n",
    "# 字体放大部分\n",
    "ax.set_xticks(indices)\n",
    "ax.set_xticklabels(models, rotation=15, ha='right', fontsize=12)\n",
    "ax.set_ylabel('Number of Answers', fontsize=13)\n",
    "ax.tick_params(axis='y', labelsize=12)\n",
    "ax.tick_params(axis='x', labelsize=12)\n",
    "\n",
    "ax.set_ylim(0, 550)\n",
    "ax.legend(title='Scores', fontsize=11, title_fontsize=12, bbox_to_anchor=(1.02, 1), loc='upper left', frameon=False)\n",
    "\n",
    "plt.tight_layout()\n",
    "plt.show()\n",
    "\n"
   ]
  },
  {
   "cell_type": "code",
   "execution_count": 2,
   "id": "1e3941ba",
   "metadata": {},
   "outputs": [
    {
     "data": {
      "text/plain": [
       "('score_distribution.pdf', 'score_distribution.png')"
      ]
     },
     "execution_count": 2,
     "metadata": {},
     "output_type": "execute_result"
    }
   ],
   "source": [
    "# Save as PDF (vector graphic) & PNG\n",
    "pdf_path = 'score_distribution.pdf'\n",
    "png_path = 'score_distribution.png'\n",
    "fig.savefig(pdf_path, bbox_inches='tight')\n",
    "fig.savefig(png_path, dpi=300, bbox_inches='tight')\n",
    "\n",
    "pdf_path, png_path"
   ]
  },
  {
   "cell_type": "code",
   "execution_count": 8,
   "id": "9bb31bd2",
   "metadata": {},
   "outputs": [
    {
     "name": "stderr",
     "output_type": "stream",
     "text": [
      "Prefix-completion test:   1%|          | 1/100 [00:02<04:27,  2.70s/it]"
     ]
    },
    {
     "name": "stdout",
     "output_type": "stream",
     "text": [
      " path_fff39451d940 | rougeL=0.040 | lev_sim=0.036\n"
     ]
    },
    {
     "name": "stderr",
     "output_type": "stream",
     "text": [
      "Prefix-completion test:   2%|▏         | 2/100 [00:04<03:22,  2.07s/it]"
     ]
    },
    {
     "name": "stdout",
     "output_type": "stream",
     "text": [
      " path_3223e4eadd22 | rougeL=0.144 | lev_sim=0.035\n"
     ]
    },
    {
     "name": "stderr",
     "output_type": "stream",
     "text": [
      "Prefix-completion test:   3%|▎         | 3/100 [00:05<02:42,  1.67s/it]"
     ]
    },
    {
     "name": "stdout",
     "output_type": "stream",
     "text": [
      " path_976765c010fc | rougeL=0.100 | lev_sim=0.201\n"
     ]
    },
    {
     "name": "stderr",
     "output_type": "stream",
     "text": [
      "Prefix-completion test:   4%|▍         | 4/100 [00:07<02:34,  1.61s/it]"
     ]
    },
    {
     "name": "stdout",
     "output_type": "stream",
     "text": [
      "   kg_56e0201f800c | rougeL=0.189 | lev_sim=0.013\n"
     ]
    },
    {
     "name": "stderr",
     "output_type": "stream",
     "text": [
      "Prefix-completion test:   5%|▌         | 5/100 [00:09<03:00,  1.90s/it]"
     ]
    },
    {
     "name": "stdout",
     "output_type": "stream",
     "text": [
      " path_1fd4016b0eb3 | rougeL=0.113 | lev_sim=0.019\n"
     ]
    },
    {
     "name": "stderr",
     "output_type": "stream",
     "text": [
      "Prefix-completion test:   6%|▌         | 6/100 [00:11<03:07,  2.00s/it]"
     ]
    },
    {
     "name": "stdout",
     "output_type": "stream",
     "text": [
      "   kg_de46fbf2e081 | rougeL=0.068 | lev_sim=0.034\n"
     ]
    },
    {
     "name": "stderr",
     "output_type": "stream",
     "text": [
      "Prefix-completion test:   7%|▋         | 7/100 [00:13<02:50,  1.83s/it]"
     ]
    },
    {
     "name": "stdout",
     "output_type": "stream",
     "text": [
      " path_13f5b98449a9 | rougeL=0.109 | lev_sim=0.000\n"
     ]
    },
    {
     "name": "stderr",
     "output_type": "stream",
     "text": [
      "Prefix-completion test:   8%|▊         | 8/100 [00:14<02:24,  1.57s/it]"
     ]
    },
    {
     "name": "stdout",
     "output_type": "stream",
     "text": [
      " path_66570ee9ee65 | rougeL=0.462 | lev_sim=0.574\n"
     ]
    },
    {
     "name": "stderr",
     "output_type": "stream",
     "text": [
      "Prefix-completion test:   9%|▉         | 9/100 [00:16<02:36,  1.72s/it]"
     ]
    },
    {
     "name": "stdout",
     "output_type": "stream",
     "text": [
      "  ret_7cf1c006af64 | rougeL=0.000 | lev_sim=0.044\n"
     ]
    },
    {
     "name": "stderr",
     "output_type": "stream",
     "text": [
      "Prefix-completion test:  10%|█         | 10/100 [00:17<02:27,  1.64s/it]"
     ]
    },
    {
     "name": "stdout",
     "output_type": "stream",
     "text": [
      " path_8677599bbd68 | rougeL=0.147 | lev_sim=0.130\n"
     ]
    },
    {
     "name": "stderr",
     "output_type": "stream",
     "text": [
      "Prefix-completion test:  11%|█         | 11/100 [00:18<02:11,  1.47s/it]"
     ]
    },
    {
     "name": "stdout",
     "output_type": "stream",
     "text": [
      " path_89c651146801 | rougeL=0.182 | lev_sim=0.166\n"
     ]
    },
    {
     "name": "stderr",
     "output_type": "stream",
     "text": [
      "Prefix-completion test:  12%|█▏        | 12/100 [00:20<02:27,  1.67s/it]"
     ]
    },
    {
     "name": "stdout",
     "output_type": "stream",
     "text": [
      "   kg_6cea24422376 | rougeL=0.167 | lev_sim=0.080\n"
     ]
    },
    {
     "name": "stderr",
     "output_type": "stream",
     "text": [
      "Prefix-completion test:  13%|█▎        | 13/100 [00:22<02:19,  1.61s/it]"
     ]
    },
    {
     "name": "stdout",
     "output_type": "stream",
     "text": [
      "   kg_f99ad791f0e4 | rougeL=0.074 | lev_sim=0.026\n"
     ]
    },
    {
     "name": "stderr",
     "output_type": "stream",
     "text": [
      "Prefix-completion test:  14%|█▍        | 14/100 [00:23<02:01,  1.41s/it]"
     ]
    },
    {
     "name": "stdout",
     "output_type": "stream",
     "text": [
      " path_54fbe177e9bb | rougeL=0.129 | lev_sim=0.123\n"
     ]
    },
    {
     "name": "stderr",
     "output_type": "stream",
     "text": [
      "Prefix-completion test:  15%|█▌        | 15/100 [00:24<01:51,  1.31s/it]"
     ]
    },
    {
     "name": "stdout",
     "output_type": "stream",
     "text": [
      "   kg_31569021267f | rougeL=0.114 | lev_sim=0.107\n"
     ]
    },
    {
     "name": "stderr",
     "output_type": "stream",
     "text": [
      "Prefix-completion test:  16%|█▌        | 16/100 [00:25<01:55,  1.37s/it]"
     ]
    },
    {
     "name": "stdout",
     "output_type": "stream",
     "text": [
      " path_0b68ced3a6fe | rougeL=0.111 | lev_sim=0.032\n"
     ]
    },
    {
     "name": "stderr",
     "output_type": "stream",
     "text": [
      "Prefix-completion test:  17%|█▋        | 17/100 [00:28<02:28,  1.79s/it]"
     ]
    },
    {
     "name": "stdout",
     "output_type": "stream",
     "text": [
      "  ret_919801a7f240 | rougeL=0.020 | lev_sim=0.017\n"
     ]
    },
    {
     "name": "stderr",
     "output_type": "stream",
     "text": [
      "Prefix-completion test:  18%|█▊        | 18/100 [00:29<02:06,  1.54s/it]"
     ]
    },
    {
     "name": "stdout",
     "output_type": "stream",
     "text": [
      "   kg_2ac12625293f | rougeL=0.160 | lev_sim=0.019\n"
     ]
    },
    {
     "name": "stderr",
     "output_type": "stream",
     "text": [
      "Prefix-completion test:  19%|█▉        | 19/100 [00:30<01:49,  1.35s/it]"
     ]
    },
    {
     "name": "stdout",
     "output_type": "stream",
     "text": [
      " path_78e4510698c9 | rougeL=0.143 | lev_sim=0.328\n"
     ]
    },
    {
     "name": "stderr",
     "output_type": "stream",
     "text": [
      "Prefix-completion test:  20%|██        | 20/100 [00:31<01:44,  1.30s/it]"
     ]
    },
    {
     "name": "stdout",
     "output_type": "stream",
     "text": [
      " path_338f0153e203 | rougeL=0.297 | lev_sim=0.055\n"
     ]
    },
    {
     "name": "stderr",
     "output_type": "stream",
     "text": [
      "Prefix-completion test:  21%|██        | 21/100 [00:32<01:31,  1.16s/it]"
     ]
    },
    {
     "name": "stdout",
     "output_type": "stream",
     "text": [
      " path_3d7e36df50e1 | rougeL=0.087 | lev_sim=0.321\n"
     ]
    },
    {
     "name": "stderr",
     "output_type": "stream",
     "text": [
      "Prefix-completion test:  22%|██▏       | 22/100 [00:33<01:33,  1.20s/it]"
     ]
    },
    {
     "name": "stdout",
     "output_type": "stream",
     "text": [
      "   kg_d0aaf7181848 | rougeL=0.202 | lev_sim=0.052\n"
     ]
    },
    {
     "name": "stderr",
     "output_type": "stream",
     "text": [
      "Prefix-completion test:  23%|██▎       | 23/100 [00:36<01:55,  1.50s/it]"
     ]
    },
    {
     "name": "stdout",
     "output_type": "stream",
     "text": [
      " path_26a7ad9cab41 | rougeL=0.180 | lev_sim=0.146\n"
     ]
    },
    {
     "name": "stderr",
     "output_type": "stream",
     "text": [
      "Prefix-completion test:  24%|██▍       | 24/100 [00:37<02:04,  1.64s/it]"
     ]
    },
    {
     "name": "stdout",
     "output_type": "stream",
     "text": [
      "   kg_877d6ed93fc7 | rougeL=0.136 | lev_sim=0.070\n"
     ]
    },
    {
     "name": "stderr",
     "output_type": "stream",
     "text": [
      "Prefix-completion test:  25%|██▌       | 25/100 [00:40<02:21,  1.88s/it]"
     ]
    },
    {
     "name": "stdout",
     "output_type": "stream",
     "text": [
      "  ret_693e88983b13 | rougeL=0.049 | lev_sim=0.024\n"
     ]
    },
    {
     "name": "stderr",
     "output_type": "stream",
     "text": [
      "Prefix-completion test:  26%|██▌       | 26/100 [00:41<02:05,  1.70s/it]"
     ]
    },
    {
     "name": "stdout",
     "output_type": "stream",
     "text": [
      "  ret_8b33291b3cef | rougeL=0.130 | lev_sim=0.314\n"
     ]
    },
    {
     "name": "stderr",
     "output_type": "stream",
     "text": [
      "Prefix-completion test:  27%|██▋       | 27/100 [00:43<02:08,  1.76s/it]"
     ]
    },
    {
     "name": "stdout",
     "output_type": "stream",
     "text": [
      "   kg_0f7217bb043e | rougeL=0.168 | lev_sim=0.058\n"
     ]
    },
    {
     "name": "stderr",
     "output_type": "stream",
     "text": [
      "Prefix-completion test:  28%|██▊       | 28/100 [00:45<02:03,  1.71s/it]"
     ]
    },
    {
     "name": "stdout",
     "output_type": "stream",
     "text": [
      "   kg_1000c155efe1 | rougeL=0.145 | lev_sim=0.069\n"
     ]
    },
    {
     "name": "stderr",
     "output_type": "stream",
     "text": [
      "Prefix-completion test:  29%|██▉       | 29/100 [00:46<01:58,  1.66s/it]"
     ]
    },
    {
     "name": "stdout",
     "output_type": "stream",
     "text": [
      "   kg_6cd25f151dd1 | rougeL=0.171 | lev_sim=0.069\n"
     ]
    },
    {
     "name": "stderr",
     "output_type": "stream",
     "text": [
      "Prefix-completion test:  30%|███       | 30/100 [00:47<01:40,  1.43s/it]"
     ]
    },
    {
     "name": "stdout",
     "output_type": "stream",
     "text": [
      "  ret_f03c2ec6a19e | rougeL=0.143 | lev_sim=0.245\n"
     ]
    },
    {
     "name": "stderr",
     "output_type": "stream",
     "text": [
      "Prefix-completion test:  31%|███       | 31/100 [00:49<01:42,  1.48s/it]"
     ]
    },
    {
     "name": "stdout",
     "output_type": "stream",
     "text": [
      "   kg_4b693854e03a | rougeL=0.124 | lev_sim=0.043\n"
     ]
    },
    {
     "name": "stderr",
     "output_type": "stream",
     "text": [
      "Prefix-completion test:  32%|███▏      | 32/100 [00:51<01:46,  1.56s/it]"
     ]
    },
    {
     "name": "stdout",
     "output_type": "stream",
     "text": [
      " path_bb00926f5398 | rougeL=0.170 | lev_sim=0.292\n"
     ]
    },
    {
     "name": "stderr",
     "output_type": "stream",
     "text": [
      "Prefix-completion test:  33%|███▎      | 33/100 [00:52<01:39,  1.49s/it]"
     ]
    },
    {
     "name": "stdout",
     "output_type": "stream",
     "text": [
      "   kg_59ff004fc69c | rougeL=0.178 | lev_sim=0.080\n"
     ]
    },
    {
     "name": "stderr",
     "output_type": "stream",
     "text": [
      "Prefix-completion test:  34%|███▍      | 34/100 [00:53<01:22,  1.25s/it]"
     ]
    },
    {
     "name": "stdout",
     "output_type": "stream",
     "text": [
      " path_9bbd3f608c64 | rougeL=0.150 | lev_sim=0.371\n"
     ]
    },
    {
     "name": "stderr",
     "output_type": "stream",
     "text": [
      "Prefix-completion test:  35%|███▌      | 35/100 [00:54<01:20,  1.24s/it]"
     ]
    },
    {
     "name": "stdout",
     "output_type": "stream",
     "text": [
      "  ret_eec158176b55 | rougeL=0.231 | lev_sim=0.297\n"
     ]
    },
    {
     "name": "stderr",
     "output_type": "stream",
     "text": [
      "Prefix-completion test:  36%|███▌      | 36/100 [00:54<01:07,  1.06s/it]"
     ]
    },
    {
     "name": "stdout",
     "output_type": "stream",
     "text": [
      " path_3f75a1a8cca9 | rougeL=0.111 | lev_sim=0.219\n"
     ]
    },
    {
     "name": "stderr",
     "output_type": "stream",
     "text": [
      "Prefix-completion test:  37%|███▋      | 37/100 [00:57<01:29,  1.42s/it]"
     ]
    },
    {
     "name": "stdout",
     "output_type": "stream",
     "text": [
      "  ret_16a04d7adba0 | rougeL=0.076 | lev_sim=0.073\n"
     ]
    },
    {
     "name": "stderr",
     "output_type": "stream",
     "text": [
      "Prefix-completion test:  38%|███▊      | 38/100 [00:58<01:25,  1.38s/it]"
     ]
    },
    {
     "name": "stdout",
     "output_type": "stream",
     "text": [
      "   kg_f5e0c8b143e5 | rougeL=0.080 | lev_sim=0.197\n"
     ]
    },
    {
     "name": "stderr",
     "output_type": "stream",
     "text": [
      "Prefix-completion test:  39%|███▉      | 39/100 [00:59<01:17,  1.26s/it]"
     ]
    },
    {
     "name": "stdout",
     "output_type": "stream",
     "text": [
      " path_75163c7f02b1 | rougeL=0.222 | lev_sim=0.236\n"
     ]
    },
    {
     "name": "stderr",
     "output_type": "stream",
     "text": [
      "Prefix-completion test:  40%|████      | 40/100 [01:01<01:22,  1.38s/it]"
     ]
    },
    {
     "name": "stdout",
     "output_type": "stream",
     "text": [
      " path_50517b538924 | rougeL=0.255 | lev_sim=0.139\n"
     ]
    },
    {
     "name": "stderr",
     "output_type": "stream",
     "text": [
      "Prefix-completion test:  41%|████      | 41/100 [01:02<01:17,  1.31s/it]"
     ]
    },
    {
     "name": "stdout",
     "output_type": "stream",
     "text": [
      "   kg_146c98caebc6 | rougeL=0.212 | lev_sim=0.013\n"
     ]
    },
    {
     "name": "stderr",
     "output_type": "stream",
     "text": [
      "Prefix-completion test:  42%|████▏     | 42/100 [01:03<01:17,  1.33s/it]"
     ]
    },
    {
     "name": "stdout",
     "output_type": "stream",
     "text": [
      "   kg_879fb41534fd | rougeL=0.176 | lev_sim=0.071\n"
     ]
    },
    {
     "name": "stderr",
     "output_type": "stream",
     "text": [
      "Prefix-completion test:  43%|████▎     | 43/100 [01:05<01:20,  1.40s/it]"
     ]
    },
    {
     "name": "stdout",
     "output_type": "stream",
     "text": [
      "   kg_7aefd06b58ae | rougeL=0.167 | lev_sim=0.016\n"
     ]
    },
    {
     "name": "stderr",
     "output_type": "stream",
     "text": [
      "Prefix-completion test:  44%|████▍     | 44/100 [01:07<01:33,  1.68s/it]"
     ]
    },
    {
     "name": "stdout",
     "output_type": "stream",
     "text": [
      "   kg_14d83ffb9d24 | rougeL=0.179 | lev_sim=0.086\n"
     ]
    },
    {
     "name": "stderr",
     "output_type": "stream",
     "text": [
      "Prefix-completion test:  45%|████▌     | 45/100 [01:08<01:22,  1.50s/it]"
     ]
    },
    {
     "name": "stdout",
     "output_type": "stream",
     "text": [
      " path_2373666236c2 | rougeL=0.143 | lev_sim=0.096\n"
     ]
    },
    {
     "name": "stderr",
     "output_type": "stream",
     "text": [
      "Prefix-completion test:  46%|████▌     | 46/100 [01:09<01:17,  1.43s/it]"
     ]
    },
    {
     "name": "stdout",
     "output_type": "stream",
     "text": [
      "   kg_a192f535092a | rougeL=0.086 | lev_sim=0.049\n"
     ]
    },
    {
     "name": "stderr",
     "output_type": "stream",
     "text": [
      "Prefix-completion test:  47%|████▋     | 47/100 [01:11<01:18,  1.47s/it]"
     ]
    },
    {
     "name": "stdout",
     "output_type": "stream",
     "text": [
      " path_1bef3b99e7ad | rougeL=0.108 | lev_sim=0.045\n"
     ]
    },
    {
     "name": "stderr",
     "output_type": "stream",
     "text": [
      "Prefix-completion test:  48%|████▊     | 48/100 [01:12<01:10,  1.36s/it]"
     ]
    },
    {
     "name": "stdout",
     "output_type": "stream",
     "text": [
      "   kg_62890e8291cb | rougeL=0.174 | lev_sim=0.012\n"
     ]
    },
    {
     "name": "stderr",
     "output_type": "stream",
     "text": [
      "Prefix-completion test:  49%|████▉     | 49/100 [01:13<01:02,  1.22s/it]"
     ]
    },
    {
     "name": "stdout",
     "output_type": "stream",
     "text": [
      "   kg_17de39478c39 | rougeL=0.107 | lev_sim=0.173\n"
     ]
    },
    {
     "name": "stderr",
     "output_type": "stream",
     "text": [
      "Prefix-completion test:  50%|█████     | 50/100 [01:14<01:01,  1.24s/it]"
     ]
    },
    {
     "name": "stdout",
     "output_type": "stream",
     "text": [
      "   kg_2286dad272ae | rougeL=0.140 | lev_sim=0.023\n"
     ]
    },
    {
     "name": "stderr",
     "output_type": "stream",
     "text": [
      "Prefix-completion test:  51%|█████     | 51/100 [01:16<01:10,  1.44s/it]"
     ]
    },
    {
     "name": "stdout",
     "output_type": "stream",
     "text": [
      "   kg_015880f59105 | rougeL=0.150 | lev_sim=0.041\n"
     ]
    },
    {
     "name": "stderr",
     "output_type": "stream",
     "text": [
      "Prefix-completion test:  52%|█████▏    | 52/100 [01:17<01:06,  1.39s/it]"
     ]
    },
    {
     "name": "stdout",
     "output_type": "stream",
     "text": [
      "   kg_22f645bd9b3d | rougeL=0.200 | lev_sim=0.075\n"
     ]
    },
    {
     "name": "stderr",
     "output_type": "stream",
     "text": [
      "Prefix-completion test:  53%|█████▎    | 53/100 [01:18<00:59,  1.28s/it]"
     ]
    },
    {
     "name": "stdout",
     "output_type": "stream",
     "text": [
      "   kg_5312df554a6a | rougeL=0.026 | lev_sim=0.067\n"
     ]
    },
    {
     "name": "stderr",
     "output_type": "stream",
     "text": [
      "Prefix-completion test:  54%|█████▍    | 54/100 [01:20<01:03,  1.37s/it]"
     ]
    },
    {
     "name": "stdout",
     "output_type": "stream",
     "text": [
      "   kg_592fe3c89172 | rougeL=0.086 | lev_sim=0.022\n"
     ]
    },
    {
     "name": "stderr",
     "output_type": "stream",
     "text": [
      "Prefix-completion test:  55%|█████▌    | 55/100 [01:21<00:52,  1.18s/it]"
     ]
    },
    {
     "name": "stdout",
     "output_type": "stream",
     "text": [
      " path_8fc762be7760 | rougeL=0.227 | lev_sim=0.464\n"
     ]
    },
    {
     "name": "stderr",
     "output_type": "stream",
     "text": [
      "Prefix-completion test:  56%|█████▌    | 56/100 [01:22<00:50,  1.15s/it]"
     ]
    },
    {
     "name": "stdout",
     "output_type": "stream",
     "text": [
      "   kg_1efacb709f17 | rougeL=0.175 | lev_sim=0.063\n"
     ]
    },
    {
     "name": "stderr",
     "output_type": "stream",
     "text": [
      "Prefix-completion test:  57%|█████▋    | 57/100 [01:23<00:50,  1.17s/it]"
     ]
    },
    {
     "name": "stdout",
     "output_type": "stream",
     "text": [
      "   kg_7b44633aa7e8 | rougeL=0.145 | lev_sim=0.024\n"
     ]
    },
    {
     "name": "stderr",
     "output_type": "stream",
     "text": [
      "Prefix-completion test:  58%|█████▊    | 58/100 [01:25<01:00,  1.44s/it]"
     ]
    },
    {
     "name": "stdout",
     "output_type": "stream",
     "text": [
      " path_ef1cf930bc18 | rougeL=0.107 | lev_sim=0.019\n"
     ]
    },
    {
     "name": "stderr",
     "output_type": "stream",
     "text": [
      "Prefix-completion test:  59%|█████▉    | 59/100 [01:26<00:58,  1.44s/it]"
     ]
    },
    {
     "name": "stdout",
     "output_type": "stream",
     "text": [
      "   kg_3fd8328d7d1e | rougeL=0.089 | lev_sim=0.022\n"
     ]
    },
    {
     "name": "stderr",
     "output_type": "stream",
     "text": [
      "Prefix-completion test:  60%|██████    | 60/100 [01:28<00:57,  1.44s/it]"
     ]
    },
    {
     "name": "stdout",
     "output_type": "stream",
     "text": [
      "   kg_c1dcedc85aaf | rougeL=0.079 | lev_sim=0.091\n"
     ]
    },
    {
     "name": "stderr",
     "output_type": "stream",
     "text": [
      "Prefix-completion test:  61%|██████    | 61/100 [01:30<00:59,  1.51s/it]"
     ]
    },
    {
     "name": "stdout",
     "output_type": "stream",
     "text": [
      " path_735b711ec4d7 | rougeL=0.117 | lev_sim=0.007\n"
     ]
    },
    {
     "name": "stderr",
     "output_type": "stream",
     "text": [
      "Prefix-completion test:  62%|██████▏   | 62/100 [01:31<01:00,  1.58s/it]"
     ]
    },
    {
     "name": "stdout",
     "output_type": "stream",
     "text": [
      " path_a93e91d7f81b | rougeL=0.185 | lev_sim=0.206\n"
     ]
    },
    {
     "name": "stderr",
     "output_type": "stream",
     "text": [
      "Prefix-completion test:  63%|██████▎   | 63/100 [01:33<00:58,  1.58s/it]"
     ]
    },
    {
     "name": "stdout",
     "output_type": "stream",
     "text": [
      " path_22b34b1ece73 | rougeL=0.144 | lev_sim=0.097\n"
     ]
    },
    {
     "name": "stderr",
     "output_type": "stream",
     "text": [
      "Prefix-completion test:  64%|██████▍   | 64/100 [01:34<00:55,  1.55s/it]"
     ]
    },
    {
     "name": "stdout",
     "output_type": "stream",
     "text": [
      "   kg_37c0be1d9051 | rougeL=0.127 | lev_sim=0.036\n"
     ]
    },
    {
     "name": "stderr",
     "output_type": "stream",
     "text": [
      "Prefix-completion test:  65%|██████▌   | 65/100 [01:36<00:53,  1.53s/it]"
     ]
    },
    {
     "name": "stdout",
     "output_type": "stream",
     "text": [
      " path_f15e06aa3494 | rougeL=0.224 | lev_sim=0.104\n"
     ]
    },
    {
     "name": "stderr",
     "output_type": "stream",
     "text": [
      "Prefix-completion test:  66%|██████▌   | 66/100 [01:37<00:51,  1.53s/it]"
     ]
    },
    {
     "name": "stdout",
     "output_type": "stream",
     "text": [
      "   kg_8cbc64f6bca9 | rougeL=0.148 | lev_sim=0.025\n"
     ]
    },
    {
     "name": "stderr",
     "output_type": "stream",
     "text": [
      "Prefix-completion test:  67%|██████▋   | 67/100 [01:38<00:43,  1.32s/it]"
     ]
    },
    {
     "name": "stdout",
     "output_type": "stream",
     "text": [
      " path_9c2d09957799 | rougeL=0.188 | lev_sim=0.027\n"
     ]
    },
    {
     "name": "stderr",
     "output_type": "stream",
     "text": [
      "Prefix-completion test:  68%|██████▊   | 68/100 [01:40<00:47,  1.50s/it]"
     ]
    },
    {
     "name": "stdout",
     "output_type": "stream",
     "text": [
      "   kg_0a6f79e37fbd | rougeL=0.100 | lev_sim=0.070\n"
     ]
    },
    {
     "name": "stderr",
     "output_type": "stream",
     "text": [
      "Prefix-completion test:  69%|██████▉   | 69/100 [01:41<00:44,  1.44s/it]"
     ]
    },
    {
     "name": "stdout",
     "output_type": "stream",
     "text": [
      " path_bd5caad93235 | rougeL=0.077 | lev_sim=0.047\n"
     ]
    },
    {
     "name": "stderr",
     "output_type": "stream",
     "text": [
      "Prefix-completion test:  70%|███████   | 70/100 [01:44<00:55,  1.86s/it]"
     ]
    },
    {
     "name": "stdout",
     "output_type": "stream",
     "text": [
      " path_6010c50cdd2e | rougeL=0.093 | lev_sim=0.005\n"
     ]
    },
    {
     "name": "stderr",
     "output_type": "stream",
     "text": [
      "Prefix-completion test:  71%|███████   | 71/100 [01:45<00:45,  1.56s/it]"
     ]
    },
    {
     "name": "stdout",
     "output_type": "stream",
     "text": [
      " path_40ba96328dae | rougeL=0.127 | lev_sim=0.043\n"
     ]
    },
    {
     "name": "stderr",
     "output_type": "stream",
     "text": [
      "Prefix-completion test:  72%|███████▏  | 72/100 [01:47<00:42,  1.53s/it]"
     ]
    },
    {
     "name": "stdout",
     "output_type": "stream",
     "text": [
      " path_3d863626ef35 | rougeL=0.180 | lev_sim=0.119\n"
     ]
    },
    {
     "name": "stderr",
     "output_type": "stream",
     "text": [
      "Prefix-completion test:  73%|███████▎  | 73/100 [01:49<00:46,  1.71s/it]"
     ]
    },
    {
     "name": "stdout",
     "output_type": "stream",
     "text": [
      " path_ee2e402077ad | rougeL=0.114 | lev_sim=0.028\n"
     ]
    },
    {
     "name": "stderr",
     "output_type": "stream",
     "text": [
      "Prefix-completion test:  74%|███████▍  | 74/100 [01:50<00:43,  1.69s/it]"
     ]
    },
    {
     "name": "stdout",
     "output_type": "stream",
     "text": [
      "   kg_806edc19efb3 | rougeL=0.115 | lev_sim=0.044\n"
     ]
    },
    {
     "name": "stderr",
     "output_type": "stream",
     "text": [
      "Prefix-completion test:  75%|███████▌  | 75/100 [01:52<00:39,  1.57s/it]"
     ]
    },
    {
     "name": "stdout",
     "output_type": "stream",
     "text": [
      "   kg_474ba465454f | rougeL=0.208 | lev_sim=0.372\n"
     ]
    },
    {
     "name": "stderr",
     "output_type": "stream",
     "text": [
      "Prefix-completion test:  76%|███████▌  | 76/100 [01:53<00:32,  1.36s/it]"
     ]
    },
    {
     "name": "stdout",
     "output_type": "stream",
     "text": [
      " path_6c74e23e8ba9 | rougeL=0.189 | lev_sim=0.333\n"
     ]
    },
    {
     "name": "stderr",
     "output_type": "stream",
     "text": [
      "Prefix-completion test:  77%|███████▋  | 77/100 [01:54<00:30,  1.35s/it]"
     ]
    },
    {
     "name": "stdout",
     "output_type": "stream",
     "text": [
      "   kg_a46b095e7fa1 | rougeL=0.133 | lev_sim=0.003\n"
     ]
    },
    {
     "name": "stderr",
     "output_type": "stream",
     "text": [
      "Prefix-completion test:  78%|███████▊  | 78/100 [01:56<00:34,  1.59s/it]"
     ]
    },
    {
     "name": "stdout",
     "output_type": "stream",
     "text": [
      "   kg_3a9190fa1d17 | rougeL=0.105 | lev_sim=0.037\n"
     ]
    },
    {
     "name": "stderr",
     "output_type": "stream",
     "text": [
      "Prefix-completion test:  79%|███████▉  | 79/100 [01:57<00:32,  1.54s/it]"
     ]
    },
    {
     "name": "stdout",
     "output_type": "stream",
     "text": [
      " path_2282759c3b2f | rougeL=0.129 | lev_sim=0.129\n"
     ]
    },
    {
     "name": "stderr",
     "output_type": "stream",
     "text": [
      "Prefix-completion test:  80%|████████  | 80/100 [01:59<00:33,  1.67s/it]"
     ]
    },
    {
     "name": "stdout",
     "output_type": "stream",
     "text": [
      "  ret_66c55daa66f2 | rougeL=0.101 | lev_sim=0.025\n"
     ]
    },
    {
     "name": "stderr",
     "output_type": "stream",
     "text": [
      "Prefix-completion test:  81%|████████  | 81/100 [02:01<00:31,  1.68s/it]"
     ]
    },
    {
     "name": "stdout",
     "output_type": "stream",
     "text": [
      " path_683f88394ba4 | rougeL=0.097 | lev_sim=0.020\n"
     ]
    },
    {
     "name": "stderr",
     "output_type": "stream",
     "text": [
      "Prefix-completion test:  82%|████████▏ | 82/100 [02:02<00:27,  1.55s/it]"
     ]
    },
    {
     "name": "stdout",
     "output_type": "stream",
     "text": [
      "  ret_4afe92a42dc6 | rougeL=0.129 | lev_sim=0.365\n"
     ]
    },
    {
     "name": "stderr",
     "output_type": "stream",
     "text": [
      "Prefix-completion test:  83%|████████▎ | 83/100 [02:04<00:28,  1.66s/it]"
     ]
    },
    {
     "name": "stdout",
     "output_type": "stream",
     "text": [
      "  ret_8b35d8bcf123 | rougeL=0.340 | lev_sim=0.495\n"
     ]
    },
    {
     "name": "stderr",
     "output_type": "stream",
     "text": [
      "Prefix-completion test:  84%|████████▍ | 84/100 [02:05<00:22,  1.41s/it]"
     ]
    },
    {
     "name": "stdout",
     "output_type": "stream",
     "text": [
      "   kg_107a55685bbe | rougeL=0.246 | lev_sim=0.149\n"
     ]
    },
    {
     "name": "stderr",
     "output_type": "stream",
     "text": [
      "Prefix-completion test:  85%|████████▌ | 85/100 [02:07<00:23,  1.55s/it]"
     ]
    },
    {
     "name": "stdout",
     "output_type": "stream",
     "text": [
      " path_c88b06ac825a | rougeL=0.133 | lev_sim=0.047\n"
     ]
    },
    {
     "name": "stderr",
     "output_type": "stream",
     "text": [
      "Prefix-completion test:  86%|████████▌ | 86/100 [02:08<00:21,  1.53s/it]"
     ]
    },
    {
     "name": "stdout",
     "output_type": "stream",
     "text": [
      " path_53812c268bc6 | rougeL=0.110 | lev_sim=0.018\n"
     ]
    },
    {
     "name": "stderr",
     "output_type": "stream",
     "text": [
      "Prefix-completion test:  87%|████████▋ | 87/100 [02:09<00:17,  1.36s/it]"
     ]
    },
    {
     "name": "stdout",
     "output_type": "stream",
     "text": [
      " path_2215b19f0054 | rougeL=0.235 | lev_sim=0.137\n"
     ]
    },
    {
     "name": "stderr",
     "output_type": "stream",
     "text": [
      "Prefix-completion test:  88%|████████▊ | 88/100 [02:11<00:16,  1.34s/it]"
     ]
    },
    {
     "name": "stdout",
     "output_type": "stream",
     "text": [
      "   kg_dca8fef6a8c9 | rougeL=0.123 | lev_sim=0.017\n"
     ]
    },
    {
     "name": "stderr",
     "output_type": "stream",
     "text": [
      "Prefix-completion test:  89%|████████▉ | 89/100 [02:12<00:13,  1.27s/it]"
     ]
    },
    {
     "name": "stdout",
     "output_type": "stream",
     "text": [
      "   kg_05e96f2c7984 | rougeL=0.208 | lev_sim=0.173\n"
     ]
    },
    {
     "name": "stderr",
     "output_type": "stream",
     "text": [
      "Prefix-completion test:  90%|█████████ | 90/100 [02:14<00:15,  1.59s/it]"
     ]
    },
    {
     "name": "stdout",
     "output_type": "stream",
     "text": [
      "   kg_8e79c446c0d5 | rougeL=0.104 | lev_sim=0.037\n"
     ]
    },
    {
     "name": "stderr",
     "output_type": "stream",
     "text": [
      "Prefix-completion test:  91%|█████████ | 91/100 [02:16<00:14,  1.57s/it]"
     ]
    },
    {
     "name": "stdout",
     "output_type": "stream",
     "text": [
      "  ret_149ae23e6028 | rougeL=0.079 | lev_sim=0.035\n"
     ]
    },
    {
     "name": "stderr",
     "output_type": "stream",
     "text": [
      "Prefix-completion test:  92%|█████████▏| 92/100 [02:18<00:14,  1.84s/it]"
     ]
    },
    {
     "name": "stdout",
     "output_type": "stream",
     "text": [
      "   kg_00a94a802fbc | rougeL=0.109 | lev_sim=0.033\n"
     ]
    },
    {
     "name": "stderr",
     "output_type": "stream",
     "text": [
      "Prefix-completion test:  93%|█████████▎| 93/100 [02:20<00:12,  1.73s/it]"
     ]
    },
    {
     "name": "stdout",
     "output_type": "stream",
     "text": [
      " path_117837ecca97 | rougeL=0.119 | lev_sim=0.033\n"
     ]
    },
    {
     "name": "stderr",
     "output_type": "stream",
     "text": [
      "Prefix-completion test:  94%|█████████▍| 94/100 [02:21<00:10,  1.71s/it]"
     ]
    },
    {
     "name": "stdout",
     "output_type": "stream",
     "text": [
      "   kg_9729e96312d3 | rougeL=0.131 | lev_sim=0.096\n"
     ]
    },
    {
     "name": "stderr",
     "output_type": "stream",
     "text": [
      "Prefix-completion test:  95%|█████████▌| 95/100 [02:23<00:09,  1.84s/it]"
     ]
    },
    {
     "name": "stdout",
     "output_type": "stream",
     "text": [
      "   kg_2510ca2306b6 | rougeL=0.151 | lev_sim=0.069\n"
     ]
    },
    {
     "name": "stderr",
     "output_type": "stream",
     "text": [
      "Prefix-completion test:  96%|█████████▌| 96/100 [02:25<00:06,  1.70s/it]"
     ]
    },
    {
     "name": "stdout",
     "output_type": "stream",
     "text": [
      "   kg_ae104372548f | rougeL=0.097 | lev_sim=0.013\n"
     ]
    },
    {
     "name": "stderr",
     "output_type": "stream",
     "text": [
      "Prefix-completion test:  97%|█████████▋| 97/100 [02:26<00:04,  1.63s/it]"
     ]
    },
    {
     "name": "stdout",
     "output_type": "stream",
     "text": [
      "   kg_bb0f784b8c8d | rougeL=0.113 | lev_sim=0.050\n"
     ]
    },
    {
     "name": "stderr",
     "output_type": "stream",
     "text": [
      "Prefix-completion test:  98%|█████████▊| 98/100 [02:28<00:03,  1.80s/it]"
     ]
    },
    {
     "name": "stdout",
     "output_type": "stream",
     "text": [
      " path_aa294a369042 | rougeL=0.121 | lev_sim=0.045\n"
     ]
    },
    {
     "name": "stderr",
     "output_type": "stream",
     "text": [
      "Prefix-completion test:  99%|█████████▉| 99/100 [02:30<00:01,  1.78s/it]"
     ]
    },
    {
     "name": "stdout",
     "output_type": "stream",
     "text": [
      " path_8166df2370f5 | rougeL=0.103 | lev_sim=0.014\n"
     ]
    },
    {
     "name": "stderr",
     "output_type": "stream",
     "text": [
      "Prefix-completion test: 100%|██████████| 100/100 [02:32<00:00,  1.52s/it]"
     ]
    },
    {
     "name": "stdout",
     "output_type": "stream",
     "text": [
      " path_85494f985b90 | rougeL=0.175 | lev_sim=0.048\n",
      "\n",
      "=== 统计（前 100 条）===\n"
     ]
    },
    {
     "name": "stderr",
     "output_type": "stream",
     "text": [
      "\n"
     ]
    },
    {
     "data": {
      "text/html": [
       "<div>\n",
       "<style scoped>\n",
       "    .dataframe tbody tr th:only-of-type {\n",
       "        vertical-align: middle;\n",
       "    }\n",
       "\n",
       "    .dataframe tbody tr th {\n",
       "        vertical-align: top;\n",
       "    }\n",
       "\n",
       "    .dataframe thead th {\n",
       "        text-align: right;\n",
       "    }\n",
       "</style>\n",
       "<table border=\"1\" class=\"dataframe\">\n",
       "  <thead>\n",
       "    <tr style=\"text-align: right;\">\n",
       "      <th></th>\n",
       "      <th>rougeL</th>\n",
       "      <th>levsim</th>\n",
       "    </tr>\n",
       "  </thead>\n",
       "  <tbody>\n",
       "    <tr>\n",
       "      <th>count</th>\n",
       "      <td>100.000000</td>\n",
       "      <td>100.000000</td>\n",
       "    </tr>\n",
       "    <tr>\n",
       "      <th>mean</th>\n",
       "      <td>0.142803</td>\n",
       "      <td>0.104742</td>\n",
       "    </tr>\n",
       "    <tr>\n",
       "      <th>std</th>\n",
       "      <td>0.064596</td>\n",
       "      <td>0.118744</td>\n",
       "    </tr>\n",
       "    <tr>\n",
       "      <th>min</th>\n",
       "      <td>0.000000</td>\n",
       "      <td>0.000000</td>\n",
       "    </tr>\n",
       "    <tr>\n",
       "      <th>25%</th>\n",
       "      <td>0.106316</td>\n",
       "      <td>0.026467</td>\n",
       "    </tr>\n",
       "    <tr>\n",
       "      <th>50%</th>\n",
       "      <td>0.132087</td>\n",
       "      <td>0.053347</td>\n",
       "    </tr>\n",
       "    <tr>\n",
       "      <th>75%</th>\n",
       "      <td>0.175535</td>\n",
       "      <td>0.131733</td>\n",
       "    </tr>\n",
       "    <tr>\n",
       "      <th>max</th>\n",
       "      <td>0.461538</td>\n",
       "      <td>0.573770</td>\n",
       "    </tr>\n",
       "  </tbody>\n",
       "</table>\n",
       "</div>"
      ],
      "text/plain": [
       "           rougeL      levsim\n",
       "count  100.000000  100.000000\n",
       "mean     0.142803    0.104742\n",
       "std      0.064596    0.118744\n",
       "min      0.000000    0.000000\n",
       "25%      0.106316    0.026467\n",
       "50%      0.132087    0.053347\n",
       "75%      0.175535    0.131733\n",
       "max      0.461538    0.573770"
      ]
     },
     "metadata": {},
     "output_type": "display_data"
    }
   ],
   "source": [
    "# prefix_completion_test.py\n",
    "# prefix_completion_test_100.py\n",
    "import os, json, difflib, argparse\n",
    "from collections import defaultdict\n",
    "from pathlib import Path\n",
    "\n",
    "import tiktoken\n",
    "import pandas as pd\n",
    "from tqdm import tqdm              # 进度条\n",
    "from rouge_score import rouge_scorer\n",
    "from openai import AzureOpenAI\n",
    "os.environ[\"OPENAI_API_KEY\"] = 'sk-4jnd9yjoIXnQRQ5SXR2b3bVO1d3sHtuyegGMzAl6awSWDRNn' \n",
    "os.environ['OPENAI_BASE_URL'] = 'https://api2.aigcbest.top/v1' \n",
    "\n",
    "# os.environ[\"OPENAI_API_KEY\"] = 'sk-OlimLcefr3MBSt08IrcZ9LrhP94qqni4w3u4qkOPFtAULcDD' \n",
    "# os.environ['OPENAI_BASE_URL'] = 'https://api.chatanywhere.tech' \n",
    "\n",
    "os.environ[\"AZURE_OPENAI_API_KEY\"] = \"5a1437f6ff2648b9b969507fb5a73276\"\n",
    "os.environ[\"AZURE_OPENAI_ENDPOINT\"] = \"https://ai-mistraleastus2753718354821.openai.azure.com/\"\n",
    "# ---------- 参数 ----------\n",
    "JSON_PATH      = \"../dataset/MAIA.json\"   # ← 按需修改\n",
    "MODEL_NAME     = \"gpt-4.1-noah\"\n",
    "PREFIX_RATIO   = 0.5\n",
    "MAX_TOKENS_GEN = 128\n",
    "\n",
    "# ---------- 编码与分段 ----------\n",
    "enc = tiktoken.encoding_for_model(\"gpt-4o-mini\")\n",
    "def prefix_by_ratio(text, ratio=PREFIX_RATIO):\n",
    "    toks = enc.encode(text)\n",
    "    k = max(1, int(len(toks) * ratio))\n",
    "    return enc.decode(toks[:k]), enc.decode(toks[k:])\n",
    "\n",
    "# ---------- Azure OpenAI 客户端 ----------\n",
    "client = AzureOpenAI(\n",
    "    api_key=os.getenv(\"AZURE_OPENAI_API_KEY\"),\n",
    "    api_version=\"2024-12-01-preview\",\n",
    "    azure_endpoint=os.getenv(\"AZURE_OPENAI_ENDPOINT\")\n",
    ")\n",
    "\n",
    "def complete(prefix: str) -> str:\n",
    "    prompt = f\"继续补全下面医学问题的剩余部分，仅输出补全内容，不要重复前缀：\\n\\n{prefix}\"\n",
    "    rsp = client.chat.completions.create(\n",
    "        model=MODEL_NAME,\n",
    "        messages=[{\"role\": \"user\", \"content\": prompt}],\n",
    "        max_tokens=MAX_TOKENS_GEN,\n",
    "        temperature=0.0)\n",
    "    return rsp.choices[0].message.content.strip()\n",
    "\n",
    "# ---------- 读取数据 ----------\n",
    "with open(JSON_PATH, encoding=\"utf-8\") as f:\n",
    "    dataset = json.load(f)[\"dataset\"]\n",
    "\n",
    "# ---------- 迭代 100 条并统计 ----------\n",
    "scorer  = rouge_scorer.RougeScorer([\"rougeL\"], use_stemmer=True)\n",
    "results = defaultdict(list)\n",
    "\n",
    "for item in tqdm(dataset[:100], desc=\"Prefix-completion test\"):\n",
    "    qid   = item[\"id\"]\n",
    "    full  = item[\"question\"]\n",
    "    pref, gold = prefix_by_ratio(full)\n",
    "\n",
    "    try:\n",
    "        gen = complete(pref)\n",
    "    except Exception as e:\n",
    "        print(f\"[{qid}] API error → {e}\")\n",
    "        continue\n",
    "\n",
    "    rougeL = scorer.score(gold, gen)[\"rougeL\"].fmeasure\n",
    "    lev    = difflib.SequenceMatcher(None, gold, gen).ratio()\n",
    "\n",
    "    results[\"qid\"].append(qid)\n",
    "    results[\"rougeL\"].append(rougeL)\n",
    "    results[\"levsim\"].append(lev)\n",
    "\n",
    "    tqdm.write(f\"{qid:>18} | rougeL={rougeL:.3f} | lev_sim={lev:.3f}\")\n",
    "\n",
    "# ---------- 汇总输出 ----------\n",
    "df = pd.DataFrame(results)\n",
    "print(\"\\n=== 统计（前 100 条）===\")\n",
    "display(df.describe())          # 在 Notebook 中更友好；脚本环境可换成 print(df.describe())"
   ]
  },
  {
   "cell_type": "code",
   "execution_count": 1,
   "id": "ead9c8a1",
   "metadata": {},
   "outputs": [
    {
     "name": "stdout",
     "output_type": "stream",
     "text": [
      "提取完成，共提取 100 条 retrieval 类型问题。\n"
     ]
    }
   ],
   "source": [
    "import json\n",
    "\n",
    "# 读取原始 MAIA.json 文件\n",
    "with open('../MAIA/MAIA.json', 'r', encoding='utf-8') as f:\n",
    "    data = json.load(f)\n",
    "\n",
    "# 提取 type 为 retrieval 的条目\n",
    "retrieval_entries = [entry for entry in data.get('dataset', []) if entry.get('type') == 'retrieval']\n",
    "\n",
    "# 构建新的 JSON 对象\n",
    "retrieval_data = {\n",
    "    \"dataset\": retrieval_entries\n",
    "}\n",
    "\n",
    "# 保存为新的 JSON 文件\n",
    "with open('../MAIA/MAIA_retrieval.json', 'w', encoding='utf-8') as f:\n",
    "    json.dump(retrieval_data, f, ensure_ascii=False, indent=2)\n",
    "\n",
    "print(f\"提取完成，共提取 {len(retrieval_entries)} 条 retrieval 类型问题。\")\n"
   ]
  }
 ],
 "metadata": {
  "kernelspec": {
   "display_name": "gpt",
   "language": "python",
   "name": "python3"
  },
  "language_info": {
   "codemirror_mode": {
    "name": "ipython",
    "version": 3
   },
   "file_extension": ".py",
   "mimetype": "text/x-python",
   "name": "python",
   "nbconvert_exporter": "python",
   "pygments_lexer": "ipython3",
   "version": "3.9.19"
  }
 },
 "nbformat": 4,
 "nbformat_minor": 5
}
